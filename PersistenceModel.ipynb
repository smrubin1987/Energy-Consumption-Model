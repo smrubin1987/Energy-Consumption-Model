{
 "cells": [
  {
   "cell_type": "markdown",
   "metadata": {},
   "source": [
    "**Persistence Model**"
   ]
  },
  {
   "cell_type": "code",
   "execution_count": 1,
   "metadata": {},
   "outputs": [
    {
     "data": {
      "text/html": [
       "<div>\n",
       "<style scoped>\n",
       "    .dataframe tbody tr th:only-of-type {\n",
       "        vertical-align: middle;\n",
       "    }\n",
       "\n",
       "    .dataframe tbody tr th {\n",
       "        vertical-align: top;\n",
       "    }\n",
       "\n",
       "    .dataframe thead th {\n",
       "        text-align: right;\n",
       "    }\n",
       "</style>\n",
       "<table border=\"1\" class=\"dataframe\">\n",
       "  <thead>\n",
       "    <tr style=\"text-align: right;\">\n",
       "      <th></th>\n",
       "      <th>Total_MW</th>\n",
       "      <th>Weeks</th>\n",
       "    </tr>\n",
       "    <tr>\n",
       "      <th>Datetime</th>\n",
       "      <th></th>\n",
       "      <th></th>\n",
       "    </tr>\n",
       "  </thead>\n",
       "  <tbody>\n",
       "    <tr>\n",
       "      <th>2012-01-01</th>\n",
       "      <td>46188.163043</td>\n",
       "      <td>1</td>\n",
       "    </tr>\n",
       "    <tr>\n",
       "      <th>2012-01-08</th>\n",
       "      <td>54688.875000</td>\n",
       "      <td>2</td>\n",
       "    </tr>\n",
       "    <tr>\n",
       "      <th>2012-01-15</th>\n",
       "      <td>55755.767857</td>\n",
       "      <td>3</td>\n",
       "    </tr>\n",
       "    <tr>\n",
       "      <th>2012-01-22</th>\n",
       "      <td>57336.458333</td>\n",
       "      <td>4</td>\n",
       "    </tr>\n",
       "    <tr>\n",
       "      <th>2012-01-29</th>\n",
       "      <td>53328.892857</td>\n",
       "      <td>5</td>\n",
       "    </tr>\n",
       "  </tbody>\n",
       "</table>\n",
       "</div>"
      ],
      "text/plain": [
       "                Total_MW  Weeks\n",
       "Datetime                       \n",
       "2012-01-01  46188.163043      1\n",
       "2012-01-08  54688.875000      2\n",
       "2012-01-15  55755.767857      3\n",
       "2012-01-22  57336.458333      4\n",
       "2012-01-29  53328.892857      5"
      ]
     },
     "execution_count": 1,
     "metadata": {},
     "output_type": "execute_result"
    }
   ],
   "source": [
    "import pandas as pd\n",
    "import numpy as np\n",
    "from math import sqrt\n",
    "import matplotlib.pyplot as plt\n",
    "from sklearn.metrics import mean_squared_error\n",
    "from statsmodels.graphics.tsaplots import plot_acf,plot_pacf\n",
    "from sklearn.ensemble import RandomForestRegressor\n",
    "import warnings\n",
    "warnings.filterwarnings(\"ignore\")\n",
    "\n",
    "df_W = pd.read_csv(\"WeekyEnergyConsumption_df.csv\").set_index(\"Datetime\")\n",
    "df_W.head()"
   ]
  },
  {
   "cell_type": "markdown",
   "metadata": {},
   "source": [
    "**Weekly Resampled Dataset: Train | Test Datasets**\n",
    "\n",
    "*6-years of data. Train: ~5-years; Test: ~1-year*"
   ]
  },
  {
   "cell_type": "code",
   "execution_count": 2,
   "metadata": {},
   "outputs": [
    {
     "name": "stdout",
     "output_type": "stream",
     "text": [
      "Train set: 262 weeks\n",
      "Test set: 52 weeks\n"
     ]
    }
   ],
   "source": [
    "X = df_W.Total_MW\n",
    "size = int(len(X) * 0.837)\n",
    "train, test = X[0:size], X[size:len(X)]\n",
    "\n",
    "print(\"Train set: \" + str(len(train)) + \" weeks\")\n",
    "print(\"Test set: \" + str(len(test)) + \" weeks\")"
   ]
  },
  {
   "cell_type": "markdown",
   "metadata": {},
   "source": [
    "**Persistence Model**\n",
    "\n",
    "*Root Mean Squarred Error: Metric of Accuracy of Model*"
   ]
  },
  {
   "cell_type": "code",
   "execution_count": 3,
   "metadata": {},
   "outputs": [
    {
     "name": "stdout",
     "output_type": "stream",
     "text": [
      ">Predicted=49299.982, Expected=57730\n",
      ">Predicted=57730.220, Expected=55231\n",
      ">Predicted=55231.435, Expected=49641\n",
      ">Predicted=49641.423, Expected=52380\n",
      ">Predicted=52380.220, Expected=55098\n",
      ">Predicted=55097.673, Expected=50857\n",
      ">Predicted=50857.173, Expected=49892\n",
      ">Predicted=49892.060, Expected=46149\n",
      ">Predicted=46148.762, Expected=50003\n",
      ">Predicted=50003.262, Expected=49242\n",
      ">Predicted=49242.334, Expected=54472\n",
      ">Predicted=54472.232, Expected=47258\n",
      ">Predicted=47257.786, Expected=45017\n",
      ">Predicted=45016.780, Expected=45499\n",
      ">Predicted=45498.649, Expected=43414\n",
      ">Predicted=43414.054, Expected=44256\n",
      ">Predicted=44255.690, Expected=45883\n",
      ">Predicted=45883.107, Expected=44290\n",
      ">Predicted=44290.208, Expected=43810\n",
      ">Predicted=43809.887, Expected=49505\n",
      ">Predicted=49504.774, Expected=44967\n",
      ">Predicted=44967.071, Expected=48259\n",
      ">Predicted=48259.024, Expected=49987\n",
      ">Predicted=49987.131, Expected=60468\n",
      ">Predicted=60468.101, Expected=54386\n",
      ">Predicted=54386.238, Expected=52781\n",
      ">Predicted=52780.994, Expected=55310\n",
      ">Predicted=55310.256, Expected=59031\n",
      ">Predicted=59030.756, Expected=62652\n",
      ">Predicted=62652.405, Expected=55206\n",
      ">Predicted=55206.310, Expected=55053\n",
      ">Predicted=55053.464, Expected=52409\n",
      ">Predicted=52408.964, Expected=58774\n",
      ">Predicted=58774.357, Expected=53061\n",
      ">Predicted=53061.440, Expected=47663\n",
      ">Predicted=47663.012, Expected=45027\n",
      ">Predicted=45027.012, Expected=48873\n",
      ">Predicted=48872.583, Expected=56072\n",
      ">Predicted=56071.768, Expected=50288\n",
      ">Predicted=50288.417, Expected=47505\n",
      ">Predicted=47504.702, Expected=47396\n",
      ">Predicted=47396.143, Expected=44058\n",
      ">Predicted=44058.488, Expected=45354\n",
      ">Predicted=45354.060, Expected=46151\n",
      ">Predicted=46150.621, Expected=49328\n",
      ">Predicted=49327.839, Expected=50049\n",
      ">Predicted=50049.327, Expected=48164\n",
      ">Predicted=48164.435, Expected=49187\n",
      ">Predicted=49186.893, Expected=53897\n",
      ">Predicted=53897.143, Expected=57131\n",
      ">Predicted=57130.869, Expected=50853\n",
      ">Predicted=50853.000, Expected=60033\n",
      "rmse: 4343.606\n"
     ]
    }
   ],
   "source": [
    "#Persistence Model:\n",
    "history = [x for x in train]\n",
    "predictions = list()\n",
    "for i in range(len(test)):\n",
    "    #predict\n",
    "    yhat = history[-1]\n",
    "    predictions.append(yhat)\n",
    "    #observation\n",
    "    obs = test[i]\n",
    "    history.append(obs)\n",
    "    print('>Predicted=%.3f, Expected=%3.f' % (yhat, obs))\n",
    "\n",
    "rmse = sqrt(mean_squared_error(test, predictions))\n",
    "print(\"rmse: %.3f\" % rmse)"
   ]
  },
  {
   "cell_type": "code",
   "execution_count": 12,
   "metadata": {},
   "outputs": [
    {
     "data": {
      "image/png": "[encoded data removed]",
      "text/plain": [
       "<Figure size 432x288 with 1 Axes>"
      ]
     },
     "metadata": {
      "needs_background": "light"
     },
     "output_type": "display_data"
    }
   ],
   "source": [
    "plt.plot(df_W.Total_MW[0:52], label='Actual')\n",
    "plt.plot(predictions, label=\"Prediction\")\n",
    "plt.xticks(np.arange(0, len(predictions), 4))\n",
    "plt.xticks(rotation=75)\n",
    "plt.xlabel(\"Date\")\n",
    "plt.ylabel('Megawatts')\n",
    "plt.legend()\n",
    "plt.title(\"Actual vs. Predictive\")\n",
    "plt.tight_layout()\n",
    "plt.savefig(\"Figures/PersistenceModel.jpg\")"
   ]
  }
 ],
 "metadata": {
  "kernelspec": {
   "display_name": "Python 3",
   "language": "python",
   "name": "python3"
  },
  "language_info": {
   "codemirror_mode": {
    "name": "ipython",
    "version": 3
   },
   "file_extension": ".py",
   "mimetype": "text/x-python",
   "name": "python",
   "nbconvert_exporter": "python",
   "pygments_lexer": "ipython3",
   "version": "3.7.6"
  }
 },
 "nbformat": 4,
 "nbformat_minor": 4
}
